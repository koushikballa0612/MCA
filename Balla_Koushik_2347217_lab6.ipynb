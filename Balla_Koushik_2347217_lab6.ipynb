{
 "cells": [
  {
   "cell_type": "markdown",
   "metadata": {},
   "source": [
    "Q1. Write a program using the Regular Exception and create a function that accepts a string and searches it for a valid phone number."
   ]
  },
  {
   "cell_type": "code",
   "execution_count": 1,
   "metadata": {},
   "outputs": [
    {
     "name": "stdout",
     "output_type": "stream",
     "text": [
      "The Phone number entered =  8008475918\n",
      "Found phone number: No valid phone number found\n"
     ]
    }
   ],
   "source": [
    "import re\n",
    "\n",
    "def find_phone_number(text):\n",
    "    pattern = r'\\d{3}-\\d{3}-\\d{4}|\\(\\d{3}\\)-\\d{3}-\\d{4}'\n",
    "    matches = re.findall(pattern, text)\n",
    "    \n",
    "    if matches:\n",
    "        return matches\n",
    "    else:\n",
    "        return \"No valid phone number found\"\n",
    "    \n",
    "input_text = input(\"Enter the Phone number: \")\n",
    "print(\"The Phone number entered = \",input_text)\n",
    "result = find_phone_number(input_text)\n",
    "print(\"Found phone number:\", result)"
   ]
  },
  {
   "cell_type": "markdown",
   "metadata": {},
   "source": [
    "Q2. Write a function that employs regular expressions to ensure the password given to the function is strong.\n"
   ]
  },
  {
   "cell_type": "code",
   "execution_count": 3,
   "metadata": {},
   "outputs": [
    {
     "name": "stdout",
     "output_type": "stream",
     "text": [
      "The password is strong.\n"
     ]
    }
   ],
   "source": [
    "import re\n",
    "\n",
    "def is_strong_password(password):\n",
    "    pattern = r\"^(?=.*[A-Z])(?=.*[a-z])(?=.*\\d)(?=.*[@$!%*?&])[A-Za-z\\d@$!%*?&]{8,}$\"\n",
    "    \n",
    "    if re.match(pattern, password):\n",
    "        return True\n",
    "    else:\n",
    "        return False\n",
    "\n",
    "password = \"Christ@123\"\n",
    "if is_strong_password(password):\n",
    "    print(\"The password is strong.\")\n",
    "else:\n",
    "    print(\"The password is not strong.\")"
   ]
  }
 ],
 "metadata": {
  "kernelspec": {
   "display_name": "Python 3",
   "language": "python",
   "name": "python3"
  },
  "language_info": {
   "codemirror_mode": {
    "name": "ipython",
    "version": 3
   },
   "file_extension": ".py",
   "mimetype": "text/x-python",
   "name": "python",
   "nbconvert_exporter": "python",
   "pygments_lexer": "ipython3",
   "version": "3.11.4"
  },
  "orig_nbformat": 4
 },
 "nbformat": 4,
 "nbformat_minor": 2
}
