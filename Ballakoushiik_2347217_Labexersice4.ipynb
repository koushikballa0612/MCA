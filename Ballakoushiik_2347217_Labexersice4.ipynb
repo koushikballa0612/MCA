{
 "cells": [
  {
   "cell_type": "code",
   "execution_count": 3,
   "metadata": {},
   "outputs": [
    {
     "name": "stdout",
     "output_type": "stream",
     "text": [
      "This page belongs to the payment\n",
      "The page belongs to the courses\n"
     ]
    }
   ],
   "source": [
    "#Multiple Inheritance\n",
    "class Eduplatform:\n",
    "    def payment(self):\n",
    "        print(\"This page belongs to the payment\")\n",
    "\n",
    "class courses:\n",
    "    def courses1(self):\n",
    "        print(\"The page belongs to the courses\")\n",
    "        \n",
    "class Edu(Eduplatform,courses):\n",
    "    pass\n",
    "\n",
    "platform=Edu()\n",
    "platform.payment()\n",
    "platform.courses1()"
   ]
  },
  {
   "cell_type": "code",
   "execution_count": 4,
   "metadata": {},
   "outputs": [
    {
     "name": "stdout",
     "output_type": "stream",
     "text": [
      "This is Child class of parent Edu\n",
      "This is parent class- Eduplatform\n",
      "This is Sub class of parent Edu\n"
     ]
    }
   ],
   "source": [
    "#Multi level inheritance\n",
    "class Eduplatform:\n",
    "    def parent(self):\n",
    "        print(\"This is parent class- Eduplatform\")\n",
    "\n",
    "class Edu_child(Eduplatform):\n",
    "    def child(self):\n",
    "        print(\"This is Child class of parent Edu\")\n",
    "\n",
    "class Edu_subchild(Edu_child):\n",
    "    def subchild(self):\n",
    "        print(\"This is Sub class of parent Edu\")\n",
    "\n",
    "edu1=Edu_subchild()\n",
    "edu1.child()\n",
    "edu1.parent()\n",
    "edu1.subchild()"
   ]
  },
  {
   "cell_type": "code",
   "execution_count": null,
   "metadata": {},
   "outputs": [],
   "source": [
    "#Hierarchial Inheritance\n",
    "class Eduplatform:\n",
    "    def payment():\n",
    "        pass\n",
    "\n",
    "    def courses():\n",
    "        pass\n",
    "\n",
    "class edu1(Eduplatform):\n",
    "    def payment(self):\n",
    "        print(\"This page belongs to the payment\")\n",
    "\n",
    "class edu2(Eduplatform):\n",
    "    def courses(self):\n",
    "        print(\"The page belongs to the courses\")\n",
    "\n",
    "eduob1=edu1()\n",
    "eduob2=edu2()\n",
    "eduob1.payment()\n",
    "eduob2.courses()"
   ]
  }
 ],
 "metadata": {
  "kernelspec": {
   "display_name": "Python 3",
   "language": "python",
   "name": "python3"
  },
  "language_info": {
   "codemirror_mode": {
    "name": "ipython",
    "version": 3
   },
   "file_extension": ".py",
   "mimetype": "text/x-python",
   "name": "python",
   "nbconvert_exporter": "python",
   "pygments_lexer": "ipython3",
   "version": "3.11.4"
  },
  "orig_nbformat": 4
 },
 "nbformat": 4,
 "nbformat_minor": 2
}
