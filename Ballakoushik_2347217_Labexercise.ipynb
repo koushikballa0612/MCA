{
 "cells": [
  {
   "cell_type": "code",
   "execution_count": 23,
   "metadata": {},
   "outputs": [
    {
     "name": "stdout",
     "output_type": "stream",
     "text": [
      "['koushikballa', '2347217', 'eduplatform']\n",
      "{'name': 'koushikballa', 'Regno': '2347217', 'Domain_name': 'eduplatform'}\n"
     ]
    }
   ],
   "source": [
    "def lab(stringsplit):\n",
    "    res = stringsplit.split('_')\n",
    "    print(res)\n",
    "    cleaned_parts = [part.strip() for part in res if part.strip()]\n",
    "    \n",
    "    if len(cleaned_parts) != 3:\n",
    "        return None\n",
    "    \n",
    "    return {\n",
    "        \"name\": cleaned_parts[0],\n",
    "        \"Regno\": cleaned_parts[1],\n",
    "        \"Domain_name\": cleaned_parts[2]\n",
    "    }\n",
    "encodedstring = \"koushikballa_2347217_eduplatform\"\n",
    "decoded = lab(encodedstring)\n",
    "print(decoded)\n",
    "\n"
   ]
  }
 ],
 "metadata": {
  "kernelspec": {
   "display_name": "Python 3",
   "language": "python",
   "name": "python3"
  },
  "language_info": {
   "codemirror_mode": {
    "name": "ipython",
    "version": 3
   },
   "file_extension": ".py",
   "mimetype": "text/x-python",
   "name": "python",
   "nbconvert_exporter": "python",
   "pygments_lexer": "ipython3",
   "version": "3.11.4"
  },
  "orig_nbformat": 4
 },
 "nbformat": 4,
 "nbformat_minor": 2
}
